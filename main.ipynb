{
 "cells": [
  {
   "cell_type": "markdown",
   "metadata": {},
   "source": [
    "# **Traductor Inglés-Español**\n",
    "\n",
    "#### **Dataset**\n",
    "\n",
    "Antes de pasar a datasets de entrenamiento más avanzados, como el del **Europarl**, haremos uso de una dataset muy sencillo para entender el funcionamiento del modelo. Este dataset contiene frases en inglés y su respectiva traducción al español, como se muestra a continuación:"
   ]
  },
  {
   "cell_type": "code",
   "execution_count": 1,
   "metadata": {},
   "outputs": [
    {
     "name": "stdout",
     "output_type": "stream",
     "text": [
      "Inglés: Hello\n",
      "Español: Hola\n",
      "---\n",
      "Inglés: Bye\n",
      "Español: Adiós\n",
      "---\n",
      "Inglés: house\n",
      "Español: casa\n",
      "---\n",
      "Inglés: dog\n",
      "Español: perro\n",
      "---\n",
      "Inglés: cat\n",
      "Español: gato\n",
      "---\n",
      "Inglés: head\n",
      "Español: cabeza\n",
      "---\n",
      "Inglés: hand\n",
      "Español: mano\n",
      "---\n",
      "Inglés: yellow\n",
      "Español: amarillo\n",
      "---\n",
      "Inglés: my car\n",
      "Español: mi coche\n",
      "---\n",
      "Inglés: my dog\n",
      "Español: mi perro\n",
      "---\n",
      "Inglés: your cat\n",
      "Español: tu gato\n",
      "---\n"
     ]
    }
   ],
   "source": [
    "def read_translation(archivo_ingles, archivo_espanol):\n",
    "    with open(archivo_ingles, 'r', encoding='utf-8') as f_ingles, open(archivo_espanol, 'r', encoding='utf-8') as f_espanol:\n",
    "        for oracion_ingles, oracion_espanol in zip(f_ingles, f_espanol):\n",
    "            yield oracion_ingles.strip(), oracion_espanol.strip()\n",
    "\n",
    "\n",
    "archivo_ingles = 'data/mock/mock.en'\n",
    "archivo_espanol = 'data/mock/mock.es'\n",
    "\n",
    "for i, (ingles, espanol) in enumerate(read_translation(archivo_ingles, archivo_espanol)):\n",
    "    print('Inglés:', ingles)\n",
    "    print('Español:', espanol)\n",
    "    print('---')\n",
    "    if i == 15:\n",
    "        break"
   ]
  },
  {
   "cell_type": "markdown",
   "metadata": {},
   "source": [
    "### Dataset de Entrenaiento"
   ]
  },
  {
   "cell_type": "markdown",
   "metadata": {},
   "source": [
    "Lo primero que haremos será cargar el dataset crear una clase para cargar los datos y preprocesarlos posteriormente para poder entrenar un modelo de traducción. Esta clase, por tanto, heredará de la clase `torch.utils.data.Dataset` y sobreescribirá los métodos `__len__` y `__getitem__`."
   ]
  },
  {
   "cell_type": "code",
   "execution_count": 2,
   "metadata": {},
   "outputs": [],
   "source": [
    "from torchtext.data.utils import get_tokenizer\n",
    "from torch.utils.data import Dataset, DataLoader\n",
    "from torch.nn.utils.rnn import pad_sequence\n",
    "import torchtext\n",
    "import torch\n",
    "from collections import defaultdict"
   ]
  },
  {
   "cell_type": "code",
   "execution_count": 3,
   "metadata": {},
   "outputs": [],
   "source": [
    "class Translation(Dataset):\n",
    "    def __init__(self, source_file, target_file):\n",
    "        self.ingles = []\n",
    "        self.espanol = []\n",
    "        self.tokenizer_es = get_tokenizer(\"spacy\", language=\"es_core_news_md\")\n",
    "        self.tokenizer_en = get_tokenizer(\"spacy\", language=\"en_core_web_md\")\n",
    "        self.vocab_es = torchtext.vocab.FastText(language='es', unk_init=torch.Tensor.normal_)  # <-- Mirar esto para ver si añadir el token <unk> al vocabulario\n",
    "        self.vocab_en = torchtext.vocab.FastText(language='en', unk_init=torch.Tensor.normal_)\n",
    "\n",
    "        self.vocab_en = self.add_sos_eos_unk_pad(self.vocab_en)\n",
    "        self.vocab_es = self.add_sos_eos_unk_pad(self.vocab_es)\n",
    "\n",
    "        self.archivo_ingles = source_file\n",
    "        self.archivo_espanol = target_file\n",
    "\n",
    "        for ingles, espanol in self.read_translation():\n",
    "            self.ingles.append(ingles)\n",
    "            self.espanol.append(espanol)\n",
    "\n",
    "\n",
    "    def add_sos_eos_unk_pad(self, vocabulary):\n",
    "        words = vocabulary.itos\n",
    "        vocab = vocabulary.stoi\n",
    "        embedding_matrix = vocabulary.vectors\n",
    "\n",
    "        sos_token = '<sos>'\n",
    "        eos_token = '<eos>'\n",
    "        pad_token = '<pad>'\n",
    "        unk_token = '<unk>'\n",
    "\n",
    "        sos_vector = torch.full((1, embedding_matrix.shape[1]), 1.)\n",
    "        eos_vector = torch.full((1, embedding_matrix.shape[1]), 2.)\n",
    "        pad_vector = torch.zeros((1, embedding_matrix.shape[1]))\n",
    "        unk_vector = torch.full((1, embedding_matrix.shape[1]), 3.)\n",
    "\n",
    "        embedding_matrix = torch.cat((embedding_matrix, sos_vector, eos_vector, unk_vector, pad_vector), 0)\n",
    "\n",
    "        vocab[sos_token] = len(vocab)\n",
    "        vocab[eos_token] = len(vocab)\n",
    "        vocab[pad_token] = len(vocab)\n",
    "        vocab[unk_token] = len(vocab)\n",
    "\n",
    "        words.append(sos_token)\n",
    "        words.append(eos_token)\n",
    "        words.append(pad_token)\n",
    "        words.append(unk_token)\n",
    "\n",
    "        vocabulary.itos = words\n",
    "        vocabulary.stoi = vocab\n",
    "        vocabulary.vectors = embedding_matrix\n",
    "\n",
    "        default_stoi = defaultdict(lambda : len(vocabulary)-1, vocabulary.stoi)\n",
    "        vocabulary.stoi = default_stoi\n",
    "    \n",
    "        return vocabulary\n",
    "        \n",
    "\n",
    "    def read_translation(self):\n",
    "        with open(self.archivo_ingles, 'r', encoding='utf-8') as f_ingles, open(self.archivo_espanol, 'r', encoding='utf-8') as f_espanol:\n",
    "            for oracion_ingles, oracion_espanol in zip(f_ingles, f_espanol):\n",
    "                yield oracion_ingles.strip().lower(), oracion_espanol.strip().lower()\n",
    "\n",
    "    def __len__(self):\n",
    "        return len(self.ingles)\n",
    "\n",
    "    def __getitem__(self, idx, verbose=False):\n",
    "        item = self.ingles[idx], self.espanol[idx]\n",
    "        tokens_ingles = self.tokenizer_en(item[0])\n",
    "        tokens_espanol = self.tokenizer_es(item[1])\n",
    "\n",
    "        tokens_ingles = tokens_ingles + ['<eos>']\n",
    "        tokens_espanol = ['<sos>'] + tokens_espanol + ['<eos>']\n",
    "\n",
    "        if verbose:\n",
    "            print('Inglés:', tokens_ingles)\n",
    "            print('Español:', tokens_espanol)\n",
    "            print('---')\n",
    "\n",
    "        if not tokens_ingles or not tokens_espanol:\n",
    "            return torch.zeros(1, 300), torch.zeros(1, 300)\n",
    "    \n",
    "        tensor_ingles = self.vocab_en.get_vecs_by_tokens(tokens_ingles)\n",
    "        tensor_espanol = self.vocab_es.get_vecs_by_tokens(tokens_espanol)\n",
    "\n",
    "        indices_ingles = [self.vocab_en.stoi[token] for token in tokens_ingles] + [self.vocab_en.stoi['<pad>']]\n",
    "        indices_espanol = [self.vocab_es.stoi[token] for token in tokens_espanol] + [self.vocab_es.stoi['<pad>']]\n",
    "\n",
    "        return tensor_ingles, tensor_espanol, indices_ingles, indices_espanol\n",
    "        \n",
    "            \n",
    "        \n",
    "def collate_fn(batch):\n",
    "    ingles_batch, espanol_batch, ingles_seqs, espanol_seqs = zip(*batch)\n",
    "    ingles_batch = pad_sequence(ingles_batch, batch_first=True, padding_value=0)\n",
    "    espanol_batch = pad_sequence(espanol_batch, batch_first=True, padding_value=0)\n",
    "\n",
    "    pad = espanol_seqs[0][-1]\n",
    "    max_len = max([len(l) for l in espanol_seqs])\n",
    "    for seq in espanol_seqs:\n",
    "        seq += [pad]*(max_len-len(seq))\n",
    "        \n",
    "    return ingles_batch, espanol_batch, ingles_seqs, espanol_seqs"
   ]
  },
  {
   "cell_type": "markdown",
   "metadata": {},
   "source": [
    "Ahora sí, cargamos el dataset desde memoria, y mostramos un ejemplo de los datos que contiene."
   ]
  },
  {
   "cell_type": "code",
   "execution_count": 4,
   "metadata": {},
   "outputs": [],
   "source": [
    "archivo_ingles = 'data/mock/mock.en'\n",
    "archivo_espanol = 'data/mock/mock.es'\n",
    "\n",
    "translation = Translation(archivo_ingles, archivo_espanol)"
   ]
  },
  {
   "cell_type": "code",
   "execution_count": 5,
   "metadata": {},
   "outputs": [
    {
     "name": "stdout",
     "output_type": "stream",
     "text": [
      "Inglés: ['hello', '<eos>']\n",
      "Español: ['<sos>', 'hola', '<eos>']\n",
      "---\n"
     ]
    }
   ],
   "source": [
    "translation.__getitem__(0, verbose=True);"
   ]
  },
  {
   "cell_type": "markdown",
   "metadata": {},
   "source": [
    "Una vez definido el dataset, instanciaremos un DataLoader para poder iterar sobre los datos durante el entrenamiento."
   ]
  },
  {
   "cell_type": "code",
   "execution_count": 6,
   "metadata": {},
   "outputs": [],
   "source": [
    "batch_size = 8\n",
    "num_workers = 0\n",
    "shuffle = True"
   ]
  },
  {
   "cell_type": "code",
   "execution_count": 7,
   "metadata": {},
   "outputs": [],
   "source": [
    "dataloader = DataLoader(translation, batch_size=batch_size, shuffle=shuffle, num_workers=num_workers, collate_fn=collate_fn)"
   ]
  },
  {
   "cell_type": "markdown",
   "metadata": {},
   "source": [
    "Creado el DataLoader, estamos listos para definir el modelo de traducción."
   ]
  },
  {
   "cell_type": "markdown",
   "metadata": {},
   "source": [
    "### **Modelo**"
   ]
  },
  {
   "cell_type": "markdown",
   "metadata": {},
   "source": [
    "A continuación, definiremos un modelo de traducción basado en la arquitectura `Seq2Seq` con `LSTM` como codificador y decodificador. Además, se ha implementado un mecanismo de atención para mejorar la calidad de las traducciones.\n",
    "\n",
    "En el siguiente código se muestra como instanciar el modelo con la atención de `Luong`, aunque también se puede utilizar la atención de Bahdanau o del producto escalar modificando la variable `attention`, instanciando la clase que corresponda."
   ]
  },
  {
   "cell_type": "code",
   "execution_count": 19,
   "metadata": {},
   "outputs": [],
   "source": [
    "import torch\n",
    "import torch.nn as nn\n",
    "import torch.optim as optim"
   ]
  },
  {
   "cell_type": "code",
   "execution_count": 14,
   "metadata": {},
   "outputs": [],
   "source": [
    "from seq2seq.attention import DotAttention, LuAttention, BaAttention\n",
    "from seq2seq.model import LSTM, Seq2Seq"
   ]
  },
  {
   "cell_type": "markdown",
   "metadata": {},
   "source": [
    "Los token de entrada tendrán una dimensión de 300, mientras que la dimensión de la salida será igual al número de palabras en el vocabulario de salida. La dimensión del estado oculto y de celda de la LSTM será de 512, y se tratará de un LSTM de dos capas para dara un mayor nivel de abstracción al modelo.\n",
    "\n",
    "En cuanto al entrenamientom se usará un learning rate de $10^{-3}$, y el modelo será entrenado durante 60 épocas, aunque los resultados obtenidos pueden conseguirse con menos épocas aún."
   ]
  },
  {
   "cell_type": "code",
   "execution_count": 10,
   "metadata": {},
   "outputs": [],
   "source": [
    "input_dim = 300\n",
    "output_dim = translation.vocab_es.vectors.shape[0]\n",
    "hidden_dim = 512\n",
    "num_layers = 2\n",
    "learning_rate = 0.001\n",
    "num_epochs = 60"
   ]
  },
  {
   "cell_type": "code",
   "execution_count": 11,
   "metadata": {},
   "outputs": [],
   "source": [
    "encoder = LSTM(input_dim, hidden_dim, num_layers)\n",
    "decoder = LSTM(input_dim, hidden_dim, num_layers)\n",
    "attention = LuAttention(hidden_dim)"
   ]
  },
  {
   "cell_type": "code",
   "execution_count": 12,
   "metadata": {},
   "outputs": [],
   "source": [
    "model = Seq2Seq(encoder, decoder, attention, output_dim)"
   ]
  },
  {
   "cell_type": "markdown",
   "metadata": {},
   "source": [
    "### Entrenamiento"
   ]
  },
  {
   "cell_type": "markdown",
   "metadata": {},
   "source": [
    "Podemos proceder a entrenar el modelo con el dataset de los datos de prueba. Para ello, se ha definido una función de error de entropía cruzada, pues la salida del decodificador es una clasificación con tantas clases como palabras en el vocabulario. Como optimizador se ha utilizado Adam."
   ]
  },
  {
   "cell_type": "code",
   "execution_count": 15,
   "metadata": {},
   "outputs": [],
   "source": [
    "optimizer = optim.Adam(model.parameters(), lr=learning_rate)\n",
    "criterion = nn.CrossEntropyLoss()"
   ]
  },
  {
   "cell_type": "markdown",
   "metadata": {},
   "source": [
    "Si entrenamos, obtenemos el siguiente resultado:"
   ]
  },
  {
   "cell_type": "code",
   "execution_count": 16,
   "metadata": {},
   "outputs": [
    {
     "name": "stdout",
     "output_type": "stream",
     "text": [
      "Epoch [1/60], Step [1/2], Loss: 3.4346\n",
      "Epoch [1/60], Average Loss: 3.9074\n",
      "Epoch [2/60], Step [1/2], Loss: 3.5249\n",
      "Epoch [2/60], Average Loss: 3.5407\n",
      "Epoch [3/60], Step [1/2], Loss: 3.0649\n",
      "Epoch [3/60], Average Loss: 3.2545\n",
      "Epoch [4/60], Step [1/2], Loss: 3.1500\n",
      "Epoch [4/60], Average Loss: 3.3960\n",
      "Epoch [5/60], Step [1/2], Loss: 2.9901\n",
      "Epoch [5/60], Average Loss: 3.2021\n",
      "Epoch [6/60], Step [1/2], Loss: 2.7222\n",
      "Epoch [6/60], Average Loss: 2.7938\n",
      "Epoch [7/60], Step [1/2], Loss: 2.8345\n",
      "Epoch [7/60], Average Loss: 2.6909\n",
      "Epoch [8/60], Step [1/2], Loss: 2.6888\n",
      "Epoch [8/60], Average Loss: 2.7444\n",
      "Epoch [9/60], Step [1/2], Loss: 2.5387\n",
      "Epoch [9/60], Average Loss: 2.3395\n",
      "Epoch [10/60], Step [1/2], Loss: 2.4722\n",
      "Epoch [10/60], Average Loss: 2.3155\n",
      "Epoch [11/60], Step [1/2], Loss: 2.3013\n",
      "Epoch [11/60], Average Loss: 2.1969\n",
      "Epoch [12/60], Step [1/2], Loss: 2.1248\n",
      "Epoch [12/60], Average Loss: 2.1604\n",
      "Epoch [13/60], Step [1/2], Loss: 2.0150\n",
      "Epoch [13/60], Average Loss: 2.1508\n",
      "Epoch [14/60], Step [1/2], Loss: 1.9488\n",
      "Epoch [14/60], Average Loss: 2.0264\n",
      "Epoch [15/60], Step [1/2], Loss: 1.7988\n",
      "Epoch [15/60], Average Loss: 1.9162\n",
      "Epoch [16/60], Step [1/2], Loss: 1.8079\n",
      "Epoch [16/60], Average Loss: 1.5371\n",
      "Epoch [17/60], Step [1/2], Loss: 1.5859\n",
      "Epoch [17/60], Average Loss: 1.4386\n",
      "Epoch [18/60], Step [1/2], Loss: 1.2533\n",
      "Epoch [18/60], Average Loss: 1.3225\n",
      "Epoch [19/60], Step [1/2], Loss: 1.5287\n",
      "Epoch [19/60], Average Loss: 1.2820\n",
      "Epoch [20/60], Step [1/2], Loss: 1.2068\n",
      "Epoch [20/60], Average Loss: 1.3346\n",
      "Epoch [21/60], Step [1/2], Loss: 1.2105\n",
      "Epoch [21/60], Average Loss: 0.9950\n",
      "Epoch [22/60], Step [1/2], Loss: 0.9156\n",
      "Epoch [22/60], Average Loss: 1.1620\n",
      "Epoch [23/60], Step [1/2], Loss: 0.9297\n",
      "Epoch [23/60], Average Loss: 0.9654\n",
      "Epoch [24/60], Step [1/2], Loss: 0.9070\n",
      "Epoch [24/60], Average Loss: 0.9514\n",
      "Epoch [25/60], Step [1/2], Loss: 0.7386\n",
      "Epoch [25/60], Average Loss: 0.6061\n",
      "Epoch [26/60], Step [1/2], Loss: 0.7135\n",
      "Epoch [26/60], Average Loss: 0.6736\n",
      "Epoch [27/60], Step [1/2], Loss: 0.5367\n",
      "Epoch [27/60], Average Loss: 0.6460\n",
      "Epoch [28/60], Step [1/2], Loss: 0.5139\n",
      "Epoch [28/60], Average Loss: 0.4943\n",
      "Epoch [29/60], Step [1/2], Loss: 0.4455\n",
      "Epoch [29/60], Average Loss: 0.4105\n",
      "Epoch [30/60], Step [1/2], Loss: 0.4000\n",
      "Epoch [30/60], Average Loss: 0.3224\n",
      "Epoch [31/60], Step [1/2], Loss: 0.3182\n",
      "Epoch [31/60], Average Loss: 0.2514\n",
      "Epoch [32/60], Step [1/2], Loss: 0.2838\n",
      "Epoch [32/60], Average Loss: 0.1882\n",
      "Epoch [33/60], Step [1/2], Loss: 0.2035\n",
      "Epoch [33/60], Average Loss: 0.1589\n",
      "Epoch [34/60], Step [1/2], Loss: 0.1176\n",
      "Epoch [34/60], Average Loss: 0.3545\n",
      "Epoch [35/60], Step [1/2], Loss: 0.1381\n",
      "Epoch [35/60], Average Loss: 0.1189\n",
      "Epoch [36/60], Step [1/2], Loss: 0.1155\n",
      "Epoch [36/60], Average Loss: 0.0818\n",
      "Epoch [37/60], Step [1/2], Loss: 0.0950\n",
      "Epoch [37/60], Average Loss: 0.0885\n",
      "Epoch [38/60], Step [1/2], Loss: 0.0551\n",
      "Epoch [38/60], Average Loss: 0.0731\n",
      "Epoch [39/60], Step [1/2], Loss: 0.1004\n",
      "Epoch [39/60], Average Loss: 0.0695\n",
      "Epoch [40/60], Step [1/2], Loss: 0.0613\n",
      "Epoch [40/60], Average Loss: 0.0634\n",
      "Epoch [41/60], Step [1/2], Loss: 0.0615\n",
      "Epoch [41/60], Average Loss: 0.0500\n",
      "Epoch [42/60], Step [1/2], Loss: 0.0593\n",
      "Epoch [42/60], Average Loss: 0.0557\n",
      "Epoch [43/60], Step [1/2], Loss: 0.0613\n",
      "Epoch [43/60], Average Loss: 0.0481\n",
      "Epoch [44/60], Step [1/2], Loss: 0.0367\n",
      "Epoch [44/60], Average Loss: 0.0329\n",
      "Epoch [45/60], Step [1/2], Loss: 0.0423\n",
      "Epoch [45/60], Average Loss: 0.0426\n",
      "Epoch [46/60], Step [1/2], Loss: 0.0249\n",
      "Epoch [46/60], Average Loss: 0.0262\n",
      "Epoch [47/60], Step [1/2], Loss: 0.0323\n",
      "Epoch [47/60], Average Loss: 0.0308\n",
      "Epoch [48/60], Step [1/2], Loss: 0.0272\n",
      "Epoch [48/60], Average Loss: 0.0260\n",
      "Epoch [49/60], Step [1/2], Loss: 0.0307\n",
      "Epoch [49/60], Average Loss: 0.0255\n",
      "Epoch [50/60], Step [1/2], Loss: 0.0262\n",
      "Epoch [50/60], Average Loss: 0.0278\n",
      "Epoch [51/60], Step [1/2], Loss: 0.0184\n",
      "Epoch [51/60], Average Loss: 0.0185\n",
      "Epoch [52/60], Step [1/2], Loss: 0.0148\n",
      "Epoch [52/60], Average Loss: 0.0162\n",
      "Epoch [53/60], Step [1/2], Loss: 0.0225\n",
      "Epoch [53/60], Average Loss: 0.0214\n",
      "Epoch [54/60], Step [1/2], Loss: 0.0209\n",
      "Epoch [54/60], Average Loss: 0.0206\n",
      "Epoch [55/60], Step [1/2], Loss: 0.0161\n",
      "Epoch [55/60], Average Loss: 0.0188\n",
      "Epoch [56/60], Step [1/2], Loss: 0.0141\n",
      "Epoch [56/60], Average Loss: 0.0139\n",
      "Epoch [57/60], Step [1/2], Loss: 0.0147\n",
      "Epoch [57/60], Average Loss: 0.0157\n",
      "Epoch [58/60], Step [1/2], Loss: 0.0119\n",
      "Epoch [58/60], Average Loss: 0.0113\n",
      "Epoch [59/60], Step [1/2], Loss: 0.0113\n",
      "Epoch [59/60], Average Loss: 0.0119\n",
      "Epoch [60/60], Step [1/2], Loss: 0.0099\n",
      "Epoch [60/60], Average Loss: 0.0121\n"
     ]
    }
   ],
   "source": [
    "for epoch in range(num_epochs):\n",
    "    model.train()\n",
    "    total_loss = 0\n",
    "    for batch_idx, (src, tgt, src_indices, tgt_indices) in enumerate(dataloader):\n",
    "        optimizer.zero_grad()\n",
    "        output = model(src, tgt)\n",
    "\n",
    "        tgt_indices = torch.tensor(tgt_indices, dtype=torch.long)\n",
    "        \n",
    "        loss = 0\n",
    "        for t in range(1, tgt.shape[1]):\n",
    "            loss += criterion(output[:, t, :], tgt_indices[:, t])\n",
    "\n",
    "        loss.backward()\n",
    "        optimizer.step()\n",
    "        total_loss += loss.item()\n",
    "\n",
    "        if batch_idx % 5 == 0:\n",
    "            print(f'Epoch [{epoch+1}/{num_epochs}], Step [{batch_idx+1}/{len(dataloader)}], Loss: {loss.item():.4f}')\n",
    "\n",
    "    print(f'Epoch [{epoch+1}/{num_epochs}], Average Loss: {total_loss / len(dataloader):.4f}')"
   ]
  },
  {
   "cell_type": "markdown",
   "metadata": {},
   "source": [
    "Podemos apreciar cómo, a lo largo de las épocas, el error de entrenamiento disminuye, lo que indica que el modelo está aprendiendo. "
   ]
  },
  {
   "cell_type": "code",
   "execution_count": 17,
   "metadata": {},
   "outputs": [],
   "source": [
    "torch.save(model.state_dict(), 'seq2seq_model_retrained.pth')"
   ]
  },
  {
   "cell_type": "markdown",
   "metadata": {},
   "source": [
    "### Evaluación del modelo"
   ]
  },
  {
   "cell_type": "markdown",
   "metadata": {},
   "source": [
    "Con el objetivo de comprobar si el modelo ha aprendido algo o no, vamos a evaluarlo sobre el conjunto de los datos de prueba. Es evidente que, si este se prueba con datos distintos, fallará, ya que la enorme falta de datos y el hecho de que no se trata de un modelo preentrenado implican una gran cantidad de sobre ajuste en el modelo. No obstante, esto se corregiría si se utilizara un dataset más grande o un modelo previamente entrenado en otras tareas de traducción."
   ]
  },
  {
   "cell_type": "code",
   "execution_count": 122,
   "metadata": {},
   "outputs": [],
   "source": [
    "model = Seq2Seq(encoder, decoder, attention, output_dim)"
   ]
  },
  {
   "cell_type": "code",
   "execution_count": 132,
   "metadata": {},
   "outputs": [
    {
     "data": {
      "text/plain": [
       "<All keys matched successfully>"
      ]
     },
     "execution_count": 132,
     "metadata": {},
     "output_type": "execute_result"
    }
   ],
   "source": [
    "model.load_state_dict(torch.load('seq2seq_model_retrained.pth'))"
   ]
  },
  {
   "cell_type": "markdown",
   "metadata": {},
   "source": [
    "Usaremos el modelo en modo de evaluación, mediante el método `eval`, el cual permite que no se aplique el backpropagation en las capas de la red."
   ]
  },
  {
   "cell_type": "code",
   "execution_count": 133,
   "metadata": {},
   "outputs": [
    {
     "data": {
      "text/plain": [
       "Seq2Seq(\n",
       "  (encoder): LSTM(\n",
       "    (rnn): LSTM(300, 512, num_layers=2, batch_first=True)\n",
       "  )\n",
       "  (decoder): LSTM(\n",
       "    (rnn): LSTM(300, 512, num_layers=2, batch_first=True)\n",
       "  )\n",
       "  (attention): LuAttention()\n",
       "  (fc_out): Linear(in_features=512, out_features=985671, bias=True)\n",
       ")"
      ]
     },
     "execution_count": 133,
     "metadata": {},
     "output_type": "execute_result"
    }
   ],
   "source": [
    "model.eval()"
   ]
  },
  {
   "cell_type": "code",
   "execution_count": 27,
   "metadata": {},
   "outputs": [],
   "source": [
    "def tokenize_sentence(sentence, translation):\n",
    "    tokens = translation.tokenizer_en(sentence)\n",
    "    tokens = tokens + ['<eos>']\n",
    "    text_tensor = translation.vocab_en.get_vecs_by_tokens(tokens)\n",
    "    text_tensor = text_tensor.unsqueeze(0)\n",
    "    return text_tensor.repeat(batch_size, 1, 1)"
   ]
  },
  {
   "cell_type": "code",
   "execution_count": 28,
   "metadata": {},
   "outputs": [],
   "source": [
    "start = translation.vocab_en.get_vecs_by_tokens(['<sos>']).unsqueeze(0)\n",
    "start = start.repeat(batch_size, 1, 1)"
   ]
  },
  {
   "cell_type": "code",
   "execution_count": 29,
   "metadata": {},
   "outputs": [],
   "source": [
    "import torch.nn.functional as F"
   ]
  },
  {
   "cell_type": "code",
   "execution_count": 29,
   "metadata": {},
   "outputs": [],
   "source": [
    "def predict(model, sentence, translation):\n",
    "    outputs = []\n",
    "    text_tensor = tokenize_sentence(sentence, translation)\n",
    "    enc_outputs, (hidden, cell) = model.encoder(text_tensor)\n",
    "    x = start\n",
    "\n",
    "    for t in range(1, 10):\n",
    "        output, (hidden, cell) = model.decoder(x, hidden, cell)\n",
    "        output = output.squeeze(1)\n",
    "        att = model.attention(enc_outputs, output)\n",
    "        output += att\n",
    "        output = model.fc_out(output)\n",
    "    \n",
    "        top1 = output.argmax(1)\n",
    "        x = translation.vocab_es.vectors[top1].unsqueeze(1)\n",
    "    \n",
    "        word = translation.vocab_es.itos[top1[0].item()]\n",
    "        outputs.append(word)\n",
    "\n",
    "        if word == '<eos>':\n",
    "            break\n",
    "\n",
    "    return outputs"
   ]
  },
  {
   "cell_type": "markdown",
   "metadata": {},
   "source": [
    "Se obtienen los siguientes resultados:"
   ]
  },
  {
   "cell_type": "code",
   "execution_count": null,
   "metadata": {},
   "outputs": [],
   "source": [
    "sentence = \"my dog\"\n",
    "outputs = predict(model, sentence, translation)"
   ]
  },
  {
   "cell_type": "code",
   "execution_count": 139,
   "metadata": {},
   "outputs": [
    {
     "data": {
      "text/plain": [
       "['mi', 'perro', '<eos>']"
      ]
     },
     "execution_count": 139,
     "metadata": {},
     "output_type": "execute_result"
    }
   ],
   "source": [
    "outputs"
   ]
  },
  {
   "cell_type": "code",
   "execution_count": null,
   "metadata": {},
   "outputs": [],
   "source": [
    "sentence = \"your cat\"\n",
    "outputs = predict(model, sentence, translation)"
   ]
  },
  {
   "cell_type": "code",
   "execution_count": 142,
   "metadata": {},
   "outputs": [
    {
     "data": {
      "text/plain": [
       "['tu', 'gato', '<eos>']"
      ]
     },
     "execution_count": 142,
     "metadata": {},
     "output_type": "execute_result"
    }
   ],
   "source": [
    "outputs"
   ]
  },
  {
   "cell_type": "code",
   "execution_count": null,
   "metadata": {},
   "outputs": [],
   "source": [
    "sentence = \"hello\"\n",
    "outputs = predict(model, sentence, translation)"
   ]
  },
  {
   "cell_type": "code",
   "execution_count": 144,
   "metadata": {},
   "outputs": [
    {
     "data": {
      "text/plain": [
       "['hola', '<eos>']"
      ]
     },
     "execution_count": 144,
     "metadata": {},
     "output_type": "execute_result"
    }
   ],
   "source": [
    "outputs"
   ]
  },
  {
   "cell_type": "code",
   "execution_count": null,
   "metadata": {},
   "outputs": [],
   "source": [
    "sentence = \"yellow\"\n",
    "outputs = predict(model, sentence, translation)"
   ]
  },
  {
   "cell_type": "code",
   "execution_count": 146,
   "metadata": {},
   "outputs": [
    {
     "data": {
      "text/plain": [
       "['amarillo', '<eos>']"
      ]
     },
     "execution_count": 146,
     "metadata": {},
     "output_type": "execute_result"
    }
   ],
   "source": [
    "outputs"
   ]
  },
  {
   "cell_type": "markdown",
   "metadata": {},
   "source": [
    "En efecto, el modelo es capaz de aprender a traducir."
   ]
  },
  {
   "cell_type": "markdown",
   "metadata": {},
   "source": [
    "# Traducción de frutas"
   ]
  },
  {
   "cell_type": "markdown",
   "metadata": {},
   "source": [
    "Con los datos anteriores, surgía un problema relacionado con la atención. Esta técnica es especialmente útil en traducciones de frases largas, donde la traducción de una palabra puede depender del contexto proporcionado por las palabras que la rodean. Sin embargo, en el dataset original, las frases eran cortas y consistían en palabras cuya traducción era directa y única. Por ejemplo, la palabra *cat* siempre se traducía como *gato*, independientemente de su contexto. Así, frases como \"the cat\" o \"your cat\" siempre se traducirían con *cat* interpretado como *gato*, sin necesidad de considerar el entorno.\n",
    "\n",
    "Sin embargo, no todas las palabras tienen una traducción tan sencilla. Tomemos, por ejemplo, la palabra *the*. Su traducción al español depende de cómo se utilice en el contexto de la frase. En \"the cat\", *the* se traduce como \"el\", mientras que en \"the cats\" se traduce como \"los\". Por tanto, su correcta traducción requiere que el modelo sea capaz de capturar y aprender estas relaciones contextuales.\n",
    "\n",
    "Para abordar este desafío, construiremos un dataset diseñado específicamente para enfatizar estos casos contextuales. Con este enfoque, evaluaremos si el modelo es capaz de aprender y generalizar correctamente las relaciones contextuales que definen la traducción adecuada en cada situación."
   ]
  },
  {
   "cell_type": "markdown",
   "metadata": {},
   "source": [
    "### Conjunto de datos"
   ]
  },
  {
   "cell_type": "markdown",
   "metadata": {},
   "source": [
    "Entrenaremos ahora el modelo con un dataset que contiene traducciones de distintas frutas junto con su género. El objetivo es ver si gracias a este mecanismo de atención el modelo es capaz de aprender a traducir correctamente las frutas, teniendo en cuenta su género.\n",
    "\n",
    "Algunas de las traducciones que se encuentran en el dataset son:\n",
    "\n",
    "- apple -> la manzana\n",
    "- the banana -> el plátano\n",
    "- the avocado -> aguacate"
   ]
  },
  {
   "cell_type": "markdown",
   "metadata": {},
   "source": [
    "Una vez disponemos de dataset en los archivos, lo cargamos haciendo uso de la clase `Translation` que ya tenemos."
   ]
  },
  {
   "cell_type": "code",
   "execution_count": 4,
   "metadata": {},
   "outputs": [],
   "source": [
    "archivo_ingles = 'data/mock/mock2.en'\n",
    "archivo_espanol = 'data/mock/mock2.es'\n",
    "\n",
    "translation = Translation(archivo_ingles, archivo_espanol)"
   ]
  },
  {
   "cell_type": "markdown",
   "metadata": {},
   "source": [
    "Un ejemplo real del dataset sería el siguiente:"
   ]
  },
  {
   "cell_type": "code",
   "execution_count": 5,
   "metadata": {},
   "outputs": [
    {
     "name": "stdout",
     "output_type": "stream",
     "text": [
      "Inglés: ['the', 'apple', '<eos>']\n",
      "Español: ['<sos>', 'la', 'manzana', '<eos>']\n",
      "---\n"
     ]
    }
   ],
   "source": [
    "translation.__getitem__(0, verbose=True);"
   ]
  },
  {
   "cell_type": "markdown",
   "metadata": {},
   "source": [
    "Hecho esto, construimos el objeto `DataLoader` para poder iterar sobre los datos durante el entrenamiento."
   ]
  },
  {
   "cell_type": "code",
   "execution_count": 10,
   "metadata": {},
   "outputs": [],
   "source": [
    "batch_size = 12\n",
    "num_workers = 0\n",
    "shuffle = True"
   ]
  },
  {
   "cell_type": "code",
   "execution_count": 11,
   "metadata": {},
   "outputs": [],
   "source": [
    "dataloader = DataLoader(translation, batch_size=batch_size, shuffle=shuffle, num_workers=num_workers, collate_fn=collate_fn)"
   ]
  },
  {
   "cell_type": "markdown",
   "metadata": {},
   "source": [
    "### Modelo"
   ]
  },
  {
   "cell_type": "markdown",
   "metadata": {},
   "source": [
    "A la vista de los buenos resultados en la sección anterior, vamos a utilizar el mismo modelo para entrenar con este nuevo dataset."
   ]
  },
  {
   "cell_type": "code",
   "execution_count": 22,
   "metadata": {},
   "outputs": [],
   "source": [
    "input_dim = 300\n",
    "output_dim = translation.vocab_es.vectors.shape[0]\n",
    "hidden_dim = 512\n",
    "num_layers = 2\n",
    "learning_rate = 0.001\n",
    "num_epochs = 60"
   ]
  },
  {
   "cell_type": "markdown",
   "metadata": {},
   "source": [
    "De nuevo, usaremos la atención de Luong, aunque se puede cambiar a Bahdanau o al producto escalar modificando la variable `attention`."
   ]
  },
  {
   "cell_type": "code",
   "execution_count": 15,
   "metadata": {},
   "outputs": [],
   "source": [
    "encoder = LSTM(input_dim, hidden_dim, num_layers)\n",
    "decoder = LSTM(input_dim, hidden_dim, num_layers)\n",
    "attention = LuAttention(hidden_dim)"
   ]
  },
  {
   "cell_type": "code",
   "execution_count": 16,
   "metadata": {},
   "outputs": [],
   "source": [
    "model = Seq2Seq(encoder, decoder, attention, output_dim)"
   ]
  },
  {
   "cell_type": "markdown",
   "metadata": {},
   "source": [
    "### Entrenamiento"
   ]
  },
  {
   "cell_type": "markdown",
   "metadata": {},
   "source": [
    "Para el entrenamiento, volveremos a usar la función de error de entropía cruzada y el optimizador Adam. El modelo será entrenado durante 60 épocas."
   ]
  },
  {
   "cell_type": "code",
   "execution_count": 20,
   "metadata": {},
   "outputs": [],
   "source": [
    "optimizer = optim.Adam(model.parameters(), lr=learning_rate)\n",
    "criterion = nn.CrossEntropyLoss()"
   ]
  },
  {
   "cell_type": "code",
   "execution_count": 23,
   "metadata": {},
   "outputs": [
    {
     "name": "stdout",
     "output_type": "stream",
     "text": [
      "Epoch [1/60], Step [1/3], Loss: 4.7431\n",
      "Epoch [1/60], Average Loss: 4.7591\n",
      "Epoch [2/60], Step [1/3], Loss: 4.4260\n",
      "Epoch [2/60], Average Loss: 4.8636\n",
      "Epoch [3/60], Step [1/3], Loss: 5.2489\n",
      "Epoch [3/60], Average Loss: 4.7724\n",
      "Epoch [4/60], Step [1/3], Loss: 4.6918\n",
      "Epoch [4/60], Average Loss: 4.6754\n",
      "Epoch [5/60], Step [1/3], Loss: 4.1265\n",
      "Epoch [5/60], Average Loss: 4.6351\n",
      "Epoch [6/60], Step [1/3], Loss: 4.0699\n",
      "Epoch [6/60], Average Loss: 4.6665\n",
      "Epoch [7/60], Step [1/3], Loss: 4.4399\n",
      "Epoch [7/60], Average Loss: 4.5378\n",
      "Epoch [8/60], Step [1/3], Loss: 4.4718\n",
      "Epoch [8/60], Average Loss: 4.4461\n",
      "Epoch [9/60], Step [1/3], Loss: 4.4512\n",
      "Epoch [9/60], Average Loss: 4.4110\n",
      "Epoch [10/60], Step [1/3], Loss: 4.1447\n",
      "Epoch [10/60], Average Loss: 4.4766\n",
      "Epoch [11/60], Step [1/3], Loss: 4.3345\n",
      "Epoch [11/60], Average Loss: 4.4148\n",
      "Epoch [12/60], Step [1/3], Loss: 4.7864\n",
      "Epoch [12/60], Average Loss: 4.5639\n",
      "Epoch [13/60], Step [1/3], Loss: 4.4835\n",
      "Epoch [13/60], Average Loss: 4.7848\n",
      "Epoch [14/60], Step [1/3], Loss: 4.9246\n",
      "Epoch [14/60], Average Loss: 5.6766\n",
      "Epoch [15/60], Step [1/3], Loss: 5.4857\n",
      "Epoch [15/60], Average Loss: 5.0840\n",
      "Epoch [16/60], Step [1/3], Loss: 4.9937\n",
      "Epoch [16/60], Average Loss: 4.7565\n",
      "Epoch [17/60], Step [1/3], Loss: 4.8266\n",
      "Epoch [17/60], Average Loss: 4.9970\n",
      "Epoch [18/60], Step [1/3], Loss: 4.0689\n",
      "Epoch [18/60], Average Loss: 4.3491\n",
      "Epoch [19/60], Step [1/3], Loss: 4.3513\n",
      "Epoch [19/60], Average Loss: 4.6488\n",
      "Epoch [20/60], Step [1/3], Loss: 4.3595\n",
      "Epoch [20/60], Average Loss: 4.0095\n",
      "Epoch [21/60], Step [1/3], Loss: 3.7346\n",
      "Epoch [21/60], Average Loss: 3.7201\n",
      "Epoch [22/60], Step [1/3], Loss: 4.2274\n",
      "Epoch [22/60], Average Loss: 3.6316\n",
      "Epoch [23/60], Step [1/3], Loss: 3.3343\n",
      "Epoch [23/60], Average Loss: 3.2671\n",
      "Epoch [24/60], Step [1/3], Loss: 3.2843\n",
      "Epoch [24/60], Average Loss: 3.2786\n",
      "Epoch [25/60], Step [1/3], Loss: 3.0653\n",
      "Epoch [25/60], Average Loss: 3.0516\n",
      "Epoch [26/60], Step [1/3], Loss: 3.2190\n",
      "Epoch [26/60], Average Loss: 3.0387\n",
      "Epoch [27/60], Step [1/3], Loss: 3.3714\n",
      "Epoch [27/60], Average Loss: 3.2427\n",
      "Epoch [28/60], Step [1/3], Loss: 3.1240\n",
      "Epoch [28/60], Average Loss: 3.5731\n",
      "Epoch [29/60], Step [1/3], Loss: 4.0577\n",
      "Epoch [29/60], Average Loss: 3.4955\n",
      "Epoch [30/60], Step [1/3], Loss: 2.7726\n",
      "Epoch [30/60], Average Loss: 3.0427\n",
      "Epoch [31/60], Step [1/3], Loss: 2.5902\n",
      "Epoch [31/60], Average Loss: 3.1164\n",
      "Epoch [32/60], Step [1/3], Loss: 2.7658\n",
      "Epoch [32/60], Average Loss: 2.9121\n",
      "Epoch [33/60], Step [1/3], Loss: 2.7175\n",
      "Epoch [33/60], Average Loss: 2.8640\n",
      "Epoch [34/60], Step [1/3], Loss: 2.6470\n",
      "Epoch [34/60], Average Loss: 2.7565\n",
      "Epoch [35/60], Step [1/3], Loss: 2.3841\n",
      "Epoch [35/60], Average Loss: 2.3479\n",
      "Epoch [36/60], Step [1/3], Loss: 2.5553\n",
      "Epoch [36/60], Average Loss: 2.3571\n",
      "Epoch [37/60], Step [1/3], Loss: 2.0679\n",
      "Epoch [37/60], Average Loss: 2.2418\n",
      "Epoch [38/60], Step [1/3], Loss: 1.8380\n",
      "Epoch [38/60], Average Loss: 2.0725\n",
      "Epoch [39/60], Step [1/3], Loss: 1.9929\n",
      "Epoch [39/60], Average Loss: 2.0104\n",
      "Epoch [40/60], Step [1/3], Loss: 1.9210\n",
      "Epoch [40/60], Average Loss: 1.8402\n",
      "Epoch [41/60], Step [1/3], Loss: 1.7938\n",
      "Epoch [41/60], Average Loss: 1.7772\n",
      "Epoch [42/60], Step [1/3], Loss: 1.5242\n",
      "Epoch [42/60], Average Loss: 1.6345\n",
      "Epoch [43/60], Step [1/3], Loss: 1.4595\n",
      "Epoch [43/60], Average Loss: 1.4705\n",
      "Epoch [44/60], Step [1/3], Loss: 1.4182\n",
      "Epoch [44/60], Average Loss: 1.5072\n",
      "Epoch [45/60], Step [1/3], Loss: 1.5460\n",
      "Epoch [45/60], Average Loss: 1.3311\n",
      "Epoch [46/60], Step [1/3], Loss: 1.1576\n",
      "Epoch [46/60], Average Loss: 1.2831\n",
      "Epoch [47/60], Step [1/3], Loss: 1.0780\n",
      "Epoch [47/60], Average Loss: 1.1909\n",
      "Epoch [48/60], Step [1/3], Loss: 1.1244\n",
      "Epoch [48/60], Average Loss: 1.1213\n",
      "Epoch [49/60], Step [1/3], Loss: 1.1205\n",
      "Epoch [49/60], Average Loss: 1.0992\n",
      "Epoch [50/60], Step [1/3], Loss: 0.9334\n",
      "Epoch [50/60], Average Loss: 0.9607\n",
      "Epoch [51/60], Step [1/3], Loss: 0.8083\n",
      "Epoch [51/60], Average Loss: 0.9082\n",
      "Epoch [52/60], Step [1/3], Loss: 0.7344\n",
      "Epoch [52/60], Average Loss: 0.7821\n",
      "Epoch [53/60], Step [1/3], Loss: 0.7456\n",
      "Epoch [53/60], Average Loss: 0.7712\n",
      "Epoch [54/60], Step [1/3], Loss: 0.6435\n",
      "Epoch [54/60], Average Loss: 0.8054\n",
      "Epoch [55/60], Step [1/3], Loss: 0.8339\n",
      "Epoch [55/60], Average Loss: 0.8511\n",
      "Epoch [56/60], Step [1/3], Loss: 0.6391\n",
      "Epoch [56/60], Average Loss: 0.8016\n",
      "Epoch [57/60], Step [1/3], Loss: 0.7178\n",
      "Epoch [57/60], Average Loss: 0.7392\n",
      "Epoch [58/60], Step [1/3], Loss: 0.7645\n",
      "Epoch [58/60], Average Loss: 0.6651\n",
      "Epoch [59/60], Step [1/3], Loss: 0.5765\n",
      "Epoch [59/60], Average Loss: 0.5912\n",
      "Epoch [60/60], Step [1/3], Loss: 0.4073\n",
      "Epoch [60/60], Average Loss: 0.5015\n"
     ]
    }
   ],
   "source": [
    "for epoch in range(num_epochs):\n",
    "    model.train()\n",
    "    total_loss = 0\n",
    "    for batch_idx, (src, tgt, src_indices, tgt_indices) in enumerate(dataloader):\n",
    "        optimizer.zero_grad()\n",
    "        output = model(src, tgt)\n",
    "\n",
    "        tgt_indices = torch.tensor(tgt_indices, dtype=torch.long)\n",
    "        \n",
    "        loss = 0\n",
    "        for t in range(1, tgt.shape[1]):\n",
    "            loss += criterion(output[:, t, :], tgt_indices[:, t])\n",
    "\n",
    "        loss.backward()\n",
    "        optimizer.step()\n",
    "        total_loss += loss.item()\n",
    "\n",
    "        if batch_idx % 5 == 0:\n",
    "            print(f'Epoch [{epoch+1}/{num_epochs}], Step [{batch_idx+1}/{len(dataloader)}], Loss: {loss.item():.4f}')\n",
    "\n",
    "    print(f'Epoch [{epoch+1}/{num_epochs}], Average Loss: {total_loss / len(dataloader):.4f}')"
   ]
  },
  {
   "cell_type": "markdown",
   "metadata": {},
   "source": [
    "Aunque el error en la última época es ligeramente mayor al error obtenido en la sección anterior con los datos de prueba originales, debemos tener en cuenta que esto se debe a que se trata de un dataset más complejo, y de mayor tamaño."
   ]
  },
  {
   "cell_type": "code",
   "execution_count": 24,
   "metadata": {},
   "outputs": [],
   "source": [
    "torch.save(model.state_dict(), 'seq2seq_model_fruits.pth')"
   ]
  },
  {
   "cell_type": "markdown",
   "metadata": {},
   "source": [
    "### Evaluación del modelo"
   ]
  },
  {
   "cell_type": "markdown",
   "metadata": {},
   "source": [
    "A continuación, testearemos el modelo, mostrando los resultados de puntuación obtenidos durante la atención en la traducción de las frutas."
   ]
  },
  {
   "cell_type": "code",
   "execution_count": null,
   "metadata": {},
   "outputs": [],
   "source": [
    "model = Seq2Seq(encoder, decoder, attention, output_dim)"
   ]
  },
  {
   "cell_type": "code",
   "execution_count": null,
   "metadata": {},
   "outputs": [
    {
     "data": {
      "text/plain": [
       "<All keys matched successfully>"
      ]
     },
     "metadata": {},
     "output_type": "display_data"
    }
   ],
   "source": [
    "model.load_state_dict(torch.load('seq2seq_model_fruits.pth'))"
   ]
  },
  {
   "cell_type": "code",
   "execution_count": 25,
   "metadata": {},
   "outputs": [
    {
     "data": {
      "text/plain": [
       "Seq2Seq(\n",
       "  (encoder): LSTM(\n",
       "    (rnn): LSTM(300, 512, num_layers=2, batch_first=True)\n",
       "  )\n",
       "  (decoder): LSTM(\n",
       "    (rnn): LSTM(300, 512, num_layers=2, batch_first=True)\n",
       "  )\n",
       "  (attention): LuAttention()\n",
       "  (fc_out): Linear(in_features=512, out_features=985671, bias=True)\n",
       ")"
      ]
     },
     "execution_count": 25,
     "metadata": {},
     "output_type": "execute_result"
    }
   ],
   "source": [
    "model.eval()"
   ]
  },
  {
   "cell_type": "code",
   "execution_count": 31,
   "metadata": {},
   "outputs": [],
   "source": [
    "def tokenize_sentence(sentence, translation):\n",
    "    tokens = translation.tokenizer_en(sentence)\n",
    "    tokens = tokens + ['<eos>']\n",
    "    text_tensor = translation.vocab_en.get_vecs_by_tokens(tokens)\n",
    "    text_tensor = text_tensor.unsqueeze(0)\n",
    "    return text_tensor.repeat(batch_size, 1, 1)"
   ]
  },
  {
   "cell_type": "code",
   "execution_count": 32,
   "metadata": {},
   "outputs": [],
   "source": [
    "start = translation.vocab_en.get_vecs_by_tokens(['<sos>']).unsqueeze(0)\n",
    "start = start.repeat(batch_size, 1, 1)"
   ]
  },
  {
   "cell_type": "code",
   "execution_count": 96,
   "metadata": {},
   "outputs": [],
   "source": [
    "import seaborn as sns\n",
    "import matplotlib.pyplot as plt"
   ]
  },
  {
   "cell_type": "code",
   "execution_count": 127,
   "metadata": {},
   "outputs": [],
   "source": [
    "def attention_matrix(model, sentence, translation):\n",
    "    outputs = []\n",
    "    text_tensor = tokenize_sentence(sentence, translation)\n",
    "    enc_outputs, (hidden, cell) = model.encoder(text_tensor)\n",
    "    x = start\n",
    "\n",
    "    att_matrix = []\n",
    "\n",
    "    for t in range(1, 10):\n",
    "        output, (hidden, cell) = model.decoder(x, hidden, cell)\n",
    "        output = output.squeeze(1)\n",
    "\n",
    "        att = model.attention(enc_outputs, output)\n",
    "        output += att\n",
    "\n",
    "        scores = model.attention._get_scores(enc_outputs, output)\n",
    "        att_matrix.append(scores[0,:].detach().numpy())\n",
    "\n",
    "        output = model.fc_out(output)\n",
    "    \n",
    "        top1 = output.argmax(1)\n",
    "        x = translation.vocab_es.vectors[top1].unsqueeze(1)\n",
    "    \n",
    "        word = translation.vocab_es.itos[top1[0].item()]\n",
    "        outputs.append(word)\n",
    "\n",
    "        if word == '<eos>':\n",
    "            break\n",
    "\n",
    "    return outputs, torch.tensor(att_matrix)"
   ]
  },
  {
   "cell_type": "code",
   "execution_count": 138,
   "metadata": {},
   "outputs": [],
   "source": [
    "def show_att_matrix(sentence, model, translation):\n",
    "    outputs, att_matrix = attention_matrix(model, sentence, translation)\n",
    "    \n",
    "    sentence = sentence + ' <eos>'\n",
    "    plt.figure(figsize=(6,6))\n",
    "    sns.heatmap(att_matrix, xticklabels=sentence.split(), yticklabels=outputs, annot=True)\n",
    "    plt.yticks(rotation=0)\n",
    "    plt.xlabel('Input')\n",
    "    plt.ylabel('Output')\n",
    "    plt.title('Attention Matrix')\n",
    "    plt.show()"
   ]
  },
  {
   "cell_type": "code",
   "execution_count": 139,
   "metadata": {},
   "outputs": [
    {
     "data": {
      "image/png": "[encoded data removed]",
      "text/plain": [
       "<Figure size 600x600 with 2 Axes>"
      ]
     },
     "metadata": {},
     "output_type": "display_data"
    }
   ],
   "source": [
    "show_att_matrix(\"the cherry\", model, translation)"
   ]
  },
  {
   "cell_type": "code",
   "execution_count": 140,
   "metadata": {},
   "outputs": [
    {
     "data": {
      "image/png": "[encoded data removed]",
      "text/plain": [
       "<Figure size 600x600 with 2 Axes>"
      ]
     },
     "metadata": {},
     "output_type": "display_data"
    }
   ],
   "source": [
    "show_att_matrix(\"the peach\", model, translation)"
   ]
  },
  {
   "cell_type": "code",
   "execution_count": null,
   "metadata": {},
   "outputs": [
    {
     "data": {
      "image/png": "[encoded data removed]",
      "text/plain": [
       "<Figure size 600x600 with 2 Axes>"
      ]
     },
     "metadata": {},
     "output_type": "display_data"
    }
   ],
   "source": [
    "show_att_matrix(\"the passion fruit\", model, translation)"
   ]
  },
  {
   "cell_type": "code",
   "execution_count": 148,
   "metadata": {},
   "outputs": [
    {
     "data": {
      "image/png": "[encoded data removed]",
      "text/plain": [
       "<Figure size 600x600 with 2 Axes>"
      ]
     },
     "metadata": {},
     "output_type": "display_data"
    }
   ],
   "source": [
    "show_att_matrix(\"banana\", model, translation)"
   ]
  },
  {
   "cell_type": "code",
   "execution_count": 156,
   "metadata": {},
   "outputs": [
    {
     "data": {
      "image/png": "[encoded data removed]",
      "text/plain": [
       "<Figure size 600x600 with 2 Axes>"
      ]
     },
     "metadata": {},
     "output_type": "display_data"
    }
   ],
   "source": [
    "show_att_matrix(\"the apple cherry\", model, translation)"
   ]
  },
  {
   "cell_type": "code",
   "execution_count": 161,
   "metadata": {},
   "outputs": [
    {
     "data": {
      "image/png": "[encoded data removed]",
      "text/plain": [
       "<Figure size 600x600 with 2 Axes>"
      ]
     },
     "metadata": {},
     "output_type": "display_data"
    }
   ],
   "source": [
    "show_att_matrix(\"the the the\", model, translation)"
   ]
  },
  {
   "cell_type": "code",
   "execution_count": 167,
   "metadata": {},
   "outputs": [
    {
     "data": {
      "image/png": "[encoded data removed]",
      "text/plain": [
       "<Figure size 600x600 with 2 Axes>"
      ]
     },
     "metadata": {},
     "output_type": "display_data"
    }
   ],
   "source": [
    "show_att_matrix(\"apple the\", model, translation)"
   ]
  },
  {
   "cell_type": "code",
   "execution_count": 172,
   "metadata": {},
   "outputs": [
    {
     "data": {
      "image/png": "[encoded data removed]",
      "text/plain": [
       "<Figure size 600x600 with 2 Axes>"
      ]
     },
     "metadata": {},
     "output_type": "display_data"
    }
   ],
   "source": [
    "show_att_matrix(\"the watermelon\", model, translation)"
   ]
  }
 ],
 "metadata": {
  "kernelspec": {
   "display_name": "Python 3",
   "language": "python",
   "name": "python3"
  },
  "language_info": {
   "codemirror_mode": {
    "name": "ipython",
    "version": 3
   },
   "file_extension": ".py",
   "mimetype": "text/x-python",
   "name": "python",
   "nbconvert_exporter": "python",
   "pygments_lexer": "ipython3",
   "version": "3.9.13"
  }
 },
 "nbformat": 4,
 "nbformat_minor": 2
}
